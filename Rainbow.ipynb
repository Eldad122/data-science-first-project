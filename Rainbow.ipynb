{
 "cells": [
  {
   "cell_type": "code",
   "execution_count": 245,
   "metadata": {},
   "outputs": [
    {
     "ename": "ImportError",
     "evalue": "cannot import name 'plot_confusion_matrix' from 'sklearn.metrics' (C:\\Users\\digorker\\anaconda\\lib\\site-packages\\sklearn\\metrics\\__init__.py)",
     "output_type": "error",
     "traceback": [
      "\u001b[1;31m---------------------------------------------------------------------------\u001b[0m",
      "\u001b[1;31mImportError\u001b[0m                               Traceback (most recent call last)",
      "\u001b[1;32m<ipython-input-245-18161932bc3a>\u001b[0m in \u001b[0;36m<module>\u001b[1;34m\u001b[0m\n\u001b[0;32m      6\u001b[0m \u001b[0mget_ipython\u001b[0m\u001b[1;33m(\u001b[0m\u001b[1;33m)\u001b[0m\u001b[1;33m.\u001b[0m\u001b[0mrun_line_magic\u001b[0m\u001b[1;33m(\u001b[0m\u001b[1;34m'matplotlib'\u001b[0m\u001b[1;33m,\u001b[0m \u001b[1;34m'inline'\u001b[0m\u001b[1;33m)\u001b[0m\u001b[1;33m\u001b[0m\u001b[1;33m\u001b[0m\u001b[0m\n\u001b[0;32m      7\u001b[0m \u001b[1;33m\u001b[0m\u001b[0m\n\u001b[1;32m----> 8\u001b[1;33m \u001b[1;32mfrom\u001b[0m \u001b[0msklearn\u001b[0m\u001b[1;33m.\u001b[0m\u001b[0mmetrics\u001b[0m \u001b[1;32mimport\u001b[0m \u001b[0mplot_confusion_matrix\u001b[0m\u001b[1;33m\u001b[0m\u001b[1;33m\u001b[0m\u001b[0m\n\u001b[0m\u001b[0;32m      9\u001b[0m \u001b[1;32mfrom\u001b[0m \u001b[0msklearn\u001b[0m\u001b[1;33m.\u001b[0m\u001b[0mpreprocessing\u001b[0m \u001b[1;32mimport\u001b[0m \u001b[0mLabelEncoder\u001b[0m\u001b[1;33m\u001b[0m\u001b[1;33m\u001b[0m\u001b[0m\n\u001b[0;32m     10\u001b[0m \u001b[0mlabelencoder\u001b[0m \u001b[1;33m=\u001b[0m \u001b[0mLabelEncoder\u001b[0m\u001b[1;33m(\u001b[0m\u001b[1;33m)\u001b[0m\u001b[1;33m\u001b[0m\u001b[1;33m\u001b[0m\u001b[0m\n",
      "\u001b[1;31mImportError\u001b[0m: cannot import name 'plot_confusion_matrix' from 'sklearn.metrics' (C:\\Users\\digorker\\anaconda\\lib\\site-packages\\sklearn\\metrics\\__init__.py)"
     ]
    }
   ],
   "source": [
    "import pandas as pd\n",
    "import numpy as np\n",
    "import matplotlib.pyplot as plt\n",
    "%matplotlib inline\n",
    "import seaborn as sns\n",
    "%matplotlib inline\n",
    "\n",
    "from sklearn.metrics import plot_confusion_matrix\n",
    "from sklearn.preprocessing import LabelEncoder\n",
    "labelencoder = LabelEncoder()\n",
    "\n",
    "from sklearn.model_selection import train_test_split\n",
    "from sklearn.neighbors import KNeighborsClassifier\n",
    "from sklearn.linear_model import LogisticRegression\n",
    "from sklearn import metrics\n",
    "from sklearn.metrics import classification_report,confusion_matrix\n",
    "from sklearn.tree import DecisionTreeClassifier\n",
    "\n",
    "import warnings\n",
    "warnings.filterwarnings(\"ignore\")"
   ]
  },
  {
   "cell_type": "code",
   "execution_count": 246,
   "metadata": {},
   "outputs": [],
   "source": [
    "df = pd.read_csv(\"data/Rainbow.csv\")"
   ]
  },
  {
   "cell_type": "code",
   "execution_count": 247,
   "metadata": {},
   "outputs": [
    {
     "data": {
      "text/html": [
       "<div>\n",
       "<style scoped>\n",
       "    .dataframe tbody tr th:only-of-type {\n",
       "        vertical-align: middle;\n",
       "    }\n",
       "\n",
       "    .dataframe tbody tr th {\n",
       "        vertical-align: top;\n",
       "    }\n",
       "\n",
       "    .dataframe thead th {\n",
       "        text-align: right;\n",
       "    }\n",
       "</style>\n",
       "<table border=\"1\" class=\"dataframe\">\n",
       "  <thead>\n",
       "    <tr style=\"text-align: right;\">\n",
       "      <th></th>\n",
       "      <th>dateid</th>\n",
       "      <th>platform</th>\n",
       "      <th>gamemode</th>\n",
       "      <th>mapname</th>\n",
       "      <th>matchid</th>\n",
       "      <th>roundnumber</th>\n",
       "      <th>objectivelocation</th>\n",
       "      <th>winrole</th>\n",
       "      <th>endroundreason</th>\n",
       "      <th>roundduration</th>\n",
       "      <th>...</th>\n",
       "      <th>primarygrip</th>\n",
       "      <th>primaryunderbarrel</th>\n",
       "      <th>primarybarrel</th>\n",
       "      <th>secondaryweapon</th>\n",
       "      <th>secondaryweapontype</th>\n",
       "      <th>secondarysight</th>\n",
       "      <th>secondarygrip</th>\n",
       "      <th>secondaryunderbarrel</th>\n",
       "      <th>secondarybarrel</th>\n",
       "      <th>secondarygadget</th>\n",
       "    </tr>\n",
       "  </thead>\n",
       "  <tbody>\n",
       "    <tr>\n",
       "      <td>0</td>\n",
       "      <td>20170212</td>\n",
       "      <td>PC</td>\n",
       "      <td>HOSTAGE</td>\n",
       "      <td>CLUB_HOUSE</td>\n",
       "      <td>1522380841</td>\n",
       "      <td>1</td>\n",
       "      <td>STRIP_CLUB</td>\n",
       "      <td>Defender</td>\n",
       "      <td>AttackersKilledHostage</td>\n",
       "      <td>124</td>\n",
       "      <td>...</td>\n",
       "      <td>Vertical</td>\n",
       "      <td>None</td>\n",
       "      <td>Compensator</td>\n",
       "      <td>5.7_USG</td>\n",
       "      <td>Pistols</td>\n",
       "      <td>None</td>\n",
       "      <td>None</td>\n",
       "      <td>None</td>\n",
       "      <td>None</td>\n",
       "      <td>IMPACT_GRENADE</td>\n",
       "    </tr>\n",
       "    <tr>\n",
       "      <td>1</td>\n",
       "      <td>20170212</td>\n",
       "      <td>PC</td>\n",
       "      <td>HOSTAGE</td>\n",
       "      <td>CLUB_HOUSE</td>\n",
       "      <td>1522380841</td>\n",
       "      <td>4</td>\n",
       "      <td>CHURCH</td>\n",
       "      <td>Defender</td>\n",
       "      <td>AttackersEliminated</td>\n",
       "      <td>217</td>\n",
       "      <td>...</td>\n",
       "      <td>Vertical</td>\n",
       "      <td>Laser</td>\n",
       "      <td>Suppressor</td>\n",
       "      <td>P12</td>\n",
       "      <td>Pistols</td>\n",
       "      <td>None</td>\n",
       "      <td>None</td>\n",
       "      <td>Laser</td>\n",
       "      <td>Suppressor</td>\n",
       "      <td>DEPLOYABLE_SHIELD</td>\n",
       "    </tr>\n",
       "    <tr>\n",
       "      <td>2</td>\n",
       "      <td>20170212</td>\n",
       "      <td>PC</td>\n",
       "      <td>HOSTAGE</td>\n",
       "      <td>CLUB_HOUSE</td>\n",
       "      <td>1522380841</td>\n",
       "      <td>3</td>\n",
       "      <td>CHURCH</td>\n",
       "      <td>Defender</td>\n",
       "      <td>AttackersEliminated</td>\n",
       "      <td>160</td>\n",
       "      <td>...</td>\n",
       "      <td>None</td>\n",
       "      <td>None</td>\n",
       "      <td>None</td>\n",
       "      <td>MK1_9mm</td>\n",
       "      <td>Pistols</td>\n",
       "      <td>None</td>\n",
       "      <td>None</td>\n",
       "      <td>None</td>\n",
       "      <td>None</td>\n",
       "      <td>DEPLOYABLE_SHIELD</td>\n",
       "    </tr>\n",
       "    <tr>\n",
       "      <td>3</td>\n",
       "      <td>20170212</td>\n",
       "      <td>PC</td>\n",
       "      <td>HOSTAGE</td>\n",
       "      <td>CLUB_HOUSE</td>\n",
       "      <td>1522380841</td>\n",
       "      <td>4</td>\n",
       "      <td>CHURCH</td>\n",
       "      <td>Defender</td>\n",
       "      <td>AttackersEliminated</td>\n",
       "      <td>217</td>\n",
       "      <td>...</td>\n",
       "      <td>None</td>\n",
       "      <td>None</td>\n",
       "      <td>MuzzleBrake</td>\n",
       "      <td>PRB92</td>\n",
       "      <td>Pistols</td>\n",
       "      <td>None</td>\n",
       "      <td>None</td>\n",
       "      <td>None</td>\n",
       "      <td>None</td>\n",
       "      <td>IMPACT_GRENADE</td>\n",
       "    </tr>\n",
       "    <tr>\n",
       "      <td>4</td>\n",
       "      <td>20170212</td>\n",
       "      <td>PC</td>\n",
       "      <td>HOSTAGE</td>\n",
       "      <td>CLUB_HOUSE</td>\n",
       "      <td>1522380841</td>\n",
       "      <td>6</td>\n",
       "      <td>BEDROOM</td>\n",
       "      <td>Attacker</td>\n",
       "      <td>DefendersEliminated</td>\n",
       "      <td>143</td>\n",
       "      <td>...</td>\n",
       "      <td>Vertical</td>\n",
       "      <td>Laser</td>\n",
       "      <td>Suppressor</td>\n",
       "      <td>P12</td>\n",
       "      <td>Pistols</td>\n",
       "      <td>None</td>\n",
       "      <td>None</td>\n",
       "      <td>Laser</td>\n",
       "      <td>Suppressor</td>\n",
       "      <td>DEPLOYABLE_SHIELD</td>\n",
       "    </tr>\n",
       "  </tbody>\n",
       "</table>\n",
       "<p>5 rows × 31 columns</p>\n",
       "</div>"
      ],
      "text/plain": [
       "     dateid platform gamemode     mapname     matchid  roundnumber  \\\n",
       "0  20170212       PC  HOSTAGE  CLUB_HOUSE  1522380841            1   \n",
       "1  20170212       PC  HOSTAGE  CLUB_HOUSE  1522380841            4   \n",
       "2  20170212       PC  HOSTAGE  CLUB_HOUSE  1522380841            3   \n",
       "3  20170212       PC  HOSTAGE  CLUB_HOUSE  1522380841            4   \n",
       "4  20170212       PC  HOSTAGE  CLUB_HOUSE  1522380841            6   \n",
       "\n",
       "  objectivelocation   winrole          endroundreason  roundduration  ...  \\\n",
       "0        STRIP_CLUB  Defender  AttackersKilledHostage            124  ...   \n",
       "1            CHURCH  Defender     AttackersEliminated            217  ...   \n",
       "2            CHURCH  Defender     AttackersEliminated            160  ...   \n",
       "3            CHURCH  Defender     AttackersEliminated            217  ...   \n",
       "4           BEDROOM  Attacker     DefendersEliminated            143  ...   \n",
       "\n",
       "   primarygrip primaryunderbarrel primarybarrel  secondaryweapon  \\\n",
       "0     Vertical               None   Compensator          5.7_USG   \n",
       "1     Vertical              Laser    Suppressor              P12   \n",
       "2         None               None          None          MK1_9mm   \n",
       "3         None               None   MuzzleBrake            PRB92   \n",
       "4     Vertical              Laser    Suppressor              P12   \n",
       "\n",
       "   secondaryweapontype secondarysight  secondarygrip  secondaryunderbarrel  \\\n",
       "0              Pistols           None           None                  None   \n",
       "1              Pistols           None           None                 Laser   \n",
       "2              Pistols           None           None                  None   \n",
       "3              Pistols           None           None                  None   \n",
       "4              Pistols           None           None                 Laser   \n",
       "\n",
       "  secondarybarrel    secondarygadget  \n",
       "0            None     IMPACT_GRENADE  \n",
       "1      Suppressor  DEPLOYABLE_SHIELD  \n",
       "2            None  DEPLOYABLE_SHIELD  \n",
       "3            None     IMPACT_GRENADE  \n",
       "4      Suppressor  DEPLOYABLE_SHIELD  \n",
       "\n",
       "[5 rows x 31 columns]"
      ]
     },
     "execution_count": 247,
     "metadata": {},
     "output_type": "execute_result"
    }
   ],
   "source": [
    "#showing the data\n",
    "df.head(5)"
   ]
  },
  {
   "cell_type": "code",
   "execution_count": 248,
   "metadata": {},
   "outputs": [
    {
     "data": {
      "text/plain": [
       "(4000000, 31)"
      ]
     },
     "execution_count": 248,
     "metadata": {},
     "output_type": "execute_result"
    }
   ],
   "source": [
    "df.shape"
   ]
  },
  {
   "cell_type": "code",
   "execution_count": 249,
   "metadata": {},
   "outputs": [],
   "source": [
    "#deleting unnecessary colums\n",
    "del df['dateid']\n",
    "del df['matchid']\n",
    "del df['roundnumber']"
   ]
  },
  {
   "cell_type": "code",
   "execution_count": 251,
   "metadata": {},
   "outputs": [
    {
     "data": {
      "text/plain": [
       "platform                0\n",
       "gamemode                0\n",
       "mapname                 0\n",
       "objectivelocation       0\n",
       "winrole                 0\n",
       "endroundreason          0\n",
       "roundduration           0\n",
       "clearancelevel          0\n",
       "skillrank               0\n",
       "role                    0\n",
       "team                    0\n",
       "haswon                  0\n",
       "operator                0\n",
       "nbkills                 0\n",
       "isdead                  0\n",
       "primaryweapon           0\n",
       "primaryweapontype       0\n",
       "primarysight            0\n",
       "primarygrip             0\n",
       "primaryunderbarrel      0\n",
       "primarybarrel           0\n",
       "secondaryweapon         0\n",
       "secondaryweapontype     0\n",
       "secondarysight          0\n",
       "secondarygrip           0\n",
       "secondaryunderbarrel    0\n",
       "secondarybarrel         0\n",
       "secondarygadget         0\n",
       "dtype: int64"
      ]
     },
     "execution_count": 251,
     "metadata": {},
     "output_type": "execute_result"
    }
   ],
   "source": [
    "#checking for null value\n",
    "df.isnull().sum()"
   ]
  },
  {
   "cell_type": "code",
   "execution_count": 252,
   "metadata": {},
   "outputs": [
    {
     "data": {
      "text/html": [
       "<div>\n",
       "<style scoped>\n",
       "    .dataframe tbody tr th:only-of-type {\n",
       "        vertical-align: middle;\n",
       "    }\n",
       "\n",
       "    .dataframe tbody tr th {\n",
       "        vertical-align: top;\n",
       "    }\n",
       "\n",
       "    .dataframe thead th {\n",
       "        text-align: right;\n",
       "    }\n",
       "</style>\n",
       "<table border=\"1\" class=\"dataframe\">\n",
       "  <thead>\n",
       "    <tr style=\"text-align: right;\">\n",
       "      <th></th>\n",
       "      <th>roundduration</th>\n",
       "      <th>clearancelevel</th>\n",
       "      <th>team</th>\n",
       "      <th>haswon</th>\n",
       "      <th>nbkills</th>\n",
       "      <th>isdead</th>\n",
       "    </tr>\n",
       "    <tr>\n",
       "      <th>operator</th>\n",
       "      <th></th>\n",
       "      <th></th>\n",
       "      <th></th>\n",
       "      <th></th>\n",
       "      <th></th>\n",
       "      <th></th>\n",
       "    </tr>\n",
       "  </thead>\n",
       "  <tbody>\n",
       "    <tr>\n",
       "      <td>BOPE-CAPITAO</td>\n",
       "      <td>13074857</td>\n",
       "      <td>7027597</td>\n",
       "      <td>33664</td>\n",
       "      <td>35329</td>\n",
       "      <td>46325</td>\n",
       "      <td>50267</td>\n",
       "    </tr>\n",
       "    <tr>\n",
       "      <td>BOPE-CAVEIRA</td>\n",
       "      <td>30355200</td>\n",
       "      <td>15773271</td>\n",
       "      <td>87053</td>\n",
       "      <td>85190</td>\n",
       "      <td>121087</td>\n",
       "      <td>119312</td>\n",
       "    </tr>\n",
       "    <tr>\n",
       "      <td>G.E.O.-JACKAL</td>\n",
       "      <td>38076568</td>\n",
       "      <td>21560725</td>\n",
       "      <td>95608</td>\n",
       "      <td>105184</td>\n",
       "      <td>161620</td>\n",
       "      <td>141758</td>\n",
       "    </tr>\n",
       "    <tr>\n",
       "      <td>G.E.O.-MIRA</td>\n",
       "      <td>32820094</td>\n",
       "      <td>17908371</td>\n",
       "      <td>92172</td>\n",
       "      <td>89899</td>\n",
       "      <td>117652</td>\n",
       "      <td>120857</td>\n",
       "    </tr>\n",
       "    <tr>\n",
       "      <td>GIGN-DOC</td>\n",
       "      <td>20848817</td>\n",
       "      <td>9023540</td>\n",
       "      <td>59106</td>\n",
       "      <td>56088</td>\n",
       "      <td>69291</td>\n",
       "      <td>79606</td>\n",
       "    </tr>\n",
       "    <tr>\n",
       "      <td>GIGN-MONTAGNE</td>\n",
       "      <td>11795758</td>\n",
       "      <td>5802379</td>\n",
       "      <td>31341</td>\n",
       "      <td>30936</td>\n",
       "      <td>26081</td>\n",
       "      <td>44274</td>\n",
       "    </tr>\n",
       "    <tr>\n",
       "      <td>GIGN-RESERVE</td>\n",
       "      <td>1168948</td>\n",
       "      <td>461575</td>\n",
       "      <td>3375</td>\n",
       "      <td>3005</td>\n",
       "      <td>3202</td>\n",
       "      <td>4983</td>\n",
       "    </tr>\n",
       "    <tr>\n",
       "      <td>GIGN-ROOK</td>\n",
       "      <td>27005439</td>\n",
       "      <td>12388587</td>\n",
       "      <td>74917</td>\n",
       "      <td>76174</td>\n",
       "      <td>91478</td>\n",
       "      <td>98628</td>\n",
       "    </tr>\n",
       "    <tr>\n",
       "      <td>GIGN-TWITCH</td>\n",
       "      <td>38309689</td>\n",
       "      <td>19217580</td>\n",
       "      <td>97069</td>\n",
       "      <td>106266</td>\n",
       "      <td>150382</td>\n",
       "      <td>132417</td>\n",
       "    </tr>\n",
       "    <tr>\n",
       "      <td>GSG9-BANDIT</td>\n",
       "      <td>35713845</td>\n",
       "      <td>19667956</td>\n",
       "      <td>100378</td>\n",
       "      <td>98648</td>\n",
       "      <td>137698</td>\n",
       "      <td>138188</td>\n",
       "    </tr>\n",
       "    <tr>\n",
       "      <td>GSG9-BLITZ</td>\n",
       "      <td>4083080</td>\n",
       "      <td>1738402</td>\n",
       "      <td>10777</td>\n",
       "      <td>10757</td>\n",
       "      <td>11121</td>\n",
       "      <td>16911</td>\n",
       "    </tr>\n",
       "    <tr>\n",
       "      <td>GSG9-IQ</td>\n",
       "      <td>11974142</td>\n",
       "      <td>5761380</td>\n",
       "      <td>30267</td>\n",
       "      <td>32727</td>\n",
       "      <td>44735</td>\n",
       "      <td>45902</td>\n",
       "    </tr>\n",
       "    <tr>\n",
       "      <td>GSG9-JAGER</td>\n",
       "      <td>49553214</td>\n",
       "      <td>26618570</td>\n",
       "      <td>139412</td>\n",
       "      <td>137264</td>\n",
       "      <td>214062</td>\n",
       "      <td>190252</td>\n",
       "    </tr>\n",
       "    <tr>\n",
       "      <td>GSG9-RESERVE</td>\n",
       "      <td>3446293</td>\n",
       "      <td>1758965</td>\n",
       "      <td>10346</td>\n",
       "      <td>9612</td>\n",
       "      <td>12060</td>\n",
       "      <td>15220</td>\n",
       "    </tr>\n",
       "    <tr>\n",
       "      <td>JTF2-BUCK</td>\n",
       "      <td>17231069</td>\n",
       "      <td>8992475</td>\n",
       "      <td>43475</td>\n",
       "      <td>46311</td>\n",
       "      <td>63163</td>\n",
       "      <td>66074</td>\n",
       "    </tr>\n",
       "    <tr>\n",
       "      <td>JTF2-FROST</td>\n",
       "      <td>24735550</td>\n",
       "      <td>12361004</td>\n",
       "      <td>68615</td>\n",
       "      <td>70315</td>\n",
       "      <td>89359</td>\n",
       "      <td>91942</td>\n",
       "    </tr>\n",
       "    <tr>\n",
       "      <td>NAVYSEAL-BLACKBEARD</td>\n",
       "      <td>14417265</td>\n",
       "      <td>6687894</td>\n",
       "      <td>36235</td>\n",
       "      <td>38468</td>\n",
       "      <td>55880</td>\n",
       "      <td>51491</td>\n",
       "    </tr>\n",
       "    <tr>\n",
       "      <td>NAVYSEAL-VALKYRIE</td>\n",
       "      <td>29272576</td>\n",
       "      <td>16439991</td>\n",
       "      <td>82537</td>\n",
       "      <td>81156</td>\n",
       "      <td>110137</td>\n",
       "      <td>110343</td>\n",
       "    </tr>\n",
       "    <tr>\n",
       "      <td>SAS-MUTE</td>\n",
       "      <td>29200505</td>\n",
       "      <td>13628331</td>\n",
       "      <td>80157</td>\n",
       "      <td>78409</td>\n",
       "      <td>89568</td>\n",
       "      <td>109791</td>\n",
       "    </tr>\n",
       "    <tr>\n",
       "      <td>SAS-RESERVE</td>\n",
       "      <td>2702967</td>\n",
       "      <td>1075155</td>\n",
       "      <td>7631</td>\n",
       "      <td>6861</td>\n",
       "      <td>7707</td>\n",
       "      <td>11498</td>\n",
       "    </tr>\n",
       "    <tr>\n",
       "      <td>SAS-SLEDGE</td>\n",
       "      <td>27034341</td>\n",
       "      <td>12932415</td>\n",
       "      <td>67958</td>\n",
       "      <td>73962</td>\n",
       "      <td>103539</td>\n",
       "      <td>104525</td>\n",
       "    </tr>\n",
       "    <tr>\n",
       "      <td>SAS-SMOKE</td>\n",
       "      <td>20262674</td>\n",
       "      <td>10285371</td>\n",
       "      <td>57368</td>\n",
       "      <td>54611</td>\n",
       "      <td>69251</td>\n",
       "      <td>78530</td>\n",
       "    </tr>\n",
       "    <tr>\n",
       "      <td>SAS-THATCHER</td>\n",
       "      <td>23065991</td>\n",
       "      <td>11554889</td>\n",
       "      <td>58510</td>\n",
       "      <td>61673</td>\n",
       "      <td>78712</td>\n",
       "      <td>82566</td>\n",
       "    </tr>\n",
       "    <tr>\n",
       "      <td>SAT-ECHO</td>\n",
       "      <td>9064585</td>\n",
       "      <td>4634238</td>\n",
       "      <td>25541</td>\n",
       "      <td>24408</td>\n",
       "      <td>30191</td>\n",
       "      <td>32395</td>\n",
       "    </tr>\n",
       "    <tr>\n",
       "      <td>SAT-HIBANA</td>\n",
       "      <td>37982823</td>\n",
       "      <td>21466036</td>\n",
       "      <td>96129</td>\n",
       "      <td>104178</td>\n",
       "      <td>148492</td>\n",
       "      <td>135414</td>\n",
       "    </tr>\n",
       "    <tr>\n",
       "      <td>SPETSNAZ-FUZE</td>\n",
       "      <td>34572226</td>\n",
       "      <td>14485657</td>\n",
       "      <td>89614</td>\n",
       "      <td>93159</td>\n",
       "      <td>148262</td>\n",
       "      <td>127858</td>\n",
       "    </tr>\n",
       "    <tr>\n",
       "      <td>SPETSNAZ-GLAZ</td>\n",
       "      <td>13590397</td>\n",
       "      <td>5685677</td>\n",
       "      <td>34566</td>\n",
       "      <td>35717</td>\n",
       "      <td>52707</td>\n",
       "      <td>49008</td>\n",
       "    </tr>\n",
       "    <tr>\n",
       "      <td>SPETSNAZ-KAPKAN</td>\n",
       "      <td>17176794</td>\n",
       "      <td>6671476</td>\n",
       "      <td>48140</td>\n",
       "      <td>45935</td>\n",
       "      <td>59621</td>\n",
       "      <td>67124</td>\n",
       "    </tr>\n",
       "    <tr>\n",
       "      <td>SPETSNAZ-RESERVE</td>\n",
       "      <td>1125861</td>\n",
       "      <td>441505</td>\n",
       "      <td>3145</td>\n",
       "      <td>2833</td>\n",
       "      <td>3355</td>\n",
       "      <td>4751</td>\n",
       "    </tr>\n",
       "    <tr>\n",
       "      <td>SPETSNAZ-TACHANKA</td>\n",
       "      <td>3260130</td>\n",
       "      <td>1318958</td>\n",
       "      <td>9156</td>\n",
       "      <td>8350</td>\n",
       "      <td>8877</td>\n",
       "      <td>13253</td>\n",
       "    </tr>\n",
       "    <tr>\n",
       "      <td>SWAT-ASH</td>\n",
       "      <td>45417251</td>\n",
       "      <td>23542818</td>\n",
       "      <td>115403</td>\n",
       "      <td>125753</td>\n",
       "      <td>198867</td>\n",
       "      <td>170286</td>\n",
       "    </tr>\n",
       "    <tr>\n",
       "      <td>SWAT-CASTLE</td>\n",
       "      <td>17994004</td>\n",
       "      <td>7398992</td>\n",
       "      <td>49641</td>\n",
       "      <td>47457</td>\n",
       "      <td>51417</td>\n",
       "      <td>68810</td>\n",
       "    </tr>\n",
       "    <tr>\n",
       "      <td>SWAT-PULSE</td>\n",
       "      <td>22283557</td>\n",
       "      <td>10354800</td>\n",
       "      <td>63761</td>\n",
       "      <td>60288</td>\n",
       "      <td>83023</td>\n",
       "      <td>88876</td>\n",
       "    </tr>\n",
       "    <tr>\n",
       "      <td>SWAT-RESERVE</td>\n",
       "      <td>1363751</td>\n",
       "      <td>571714</td>\n",
       "      <td>3753</td>\n",
       "      <td>3558</td>\n",
       "      <td>4092</td>\n",
       "      <td>5794</td>\n",
       "    </tr>\n",
       "    <tr>\n",
       "      <td>SWAT-THERMITE</td>\n",
       "      <td>36608319</td>\n",
       "      <td>17682893</td>\n",
       "      <td>92311</td>\n",
       "      <td>98791</td>\n",
       "      <td>129121</td>\n",
       "      <td>133928</td>\n",
       "    </tr>\n",
       "  </tbody>\n",
       "</table>\n",
       "</div>"
      ],
      "text/plain": [
       "                     roundduration  clearancelevel    team  haswon  nbkills  \\\n",
       "operator                                                                      \n",
       "BOPE-CAPITAO              13074857         7027597   33664   35329    46325   \n",
       "BOPE-CAVEIRA              30355200        15773271   87053   85190   121087   \n",
       "G.E.O.-JACKAL             38076568        21560725   95608  105184   161620   \n",
       "G.E.O.-MIRA               32820094        17908371   92172   89899   117652   \n",
       "GIGN-DOC                  20848817         9023540   59106   56088    69291   \n",
       "GIGN-MONTAGNE             11795758         5802379   31341   30936    26081   \n",
       "GIGN-RESERVE               1168948          461575    3375    3005     3202   \n",
       "GIGN-ROOK                 27005439        12388587   74917   76174    91478   \n",
       "GIGN-TWITCH               38309689        19217580   97069  106266   150382   \n",
       "GSG9-BANDIT               35713845        19667956  100378   98648   137698   \n",
       "GSG9-BLITZ                 4083080         1738402   10777   10757    11121   \n",
       "GSG9-IQ                   11974142         5761380   30267   32727    44735   \n",
       "GSG9-JAGER                49553214        26618570  139412  137264   214062   \n",
       "GSG9-RESERVE               3446293         1758965   10346    9612    12060   \n",
       "JTF2-BUCK                 17231069         8992475   43475   46311    63163   \n",
       "JTF2-FROST                24735550        12361004   68615   70315    89359   \n",
       "NAVYSEAL-BLACKBEARD       14417265         6687894   36235   38468    55880   \n",
       "NAVYSEAL-VALKYRIE         29272576        16439991   82537   81156   110137   \n",
       "SAS-MUTE                  29200505        13628331   80157   78409    89568   \n",
       "SAS-RESERVE                2702967         1075155    7631    6861     7707   \n",
       "SAS-SLEDGE                27034341        12932415   67958   73962   103539   \n",
       "SAS-SMOKE                 20262674        10285371   57368   54611    69251   \n",
       "SAS-THATCHER              23065991        11554889   58510   61673    78712   \n",
       "SAT-ECHO                   9064585         4634238   25541   24408    30191   \n",
       "SAT-HIBANA                37982823        21466036   96129  104178   148492   \n",
       "SPETSNAZ-FUZE             34572226        14485657   89614   93159   148262   \n",
       "SPETSNAZ-GLAZ             13590397         5685677   34566   35717    52707   \n",
       "SPETSNAZ-KAPKAN           17176794         6671476   48140   45935    59621   \n",
       "SPETSNAZ-RESERVE           1125861          441505    3145    2833     3355   \n",
       "SPETSNAZ-TACHANKA          3260130         1318958    9156    8350     8877   \n",
       "SWAT-ASH                  45417251        23542818  115403  125753   198867   \n",
       "SWAT-CASTLE               17994004         7398992   49641   47457    51417   \n",
       "SWAT-PULSE                22283557        10354800   63761   60288    83023   \n",
       "SWAT-RESERVE               1363751          571714    3753    3558     4092   \n",
       "SWAT-THERMITE             36608319        17682893   92311   98791   129121   \n",
       "\n",
       "                     isdead  \n",
       "operator                     \n",
       "BOPE-CAPITAO          50267  \n",
       "BOPE-CAVEIRA         119312  \n",
       "G.E.O.-JACKAL        141758  \n",
       "G.E.O.-MIRA          120857  \n",
       "GIGN-DOC              79606  \n",
       "GIGN-MONTAGNE         44274  \n",
       "GIGN-RESERVE           4983  \n",
       "GIGN-ROOK             98628  \n",
       "GIGN-TWITCH          132417  \n",
       "GSG9-BANDIT          138188  \n",
       "GSG9-BLITZ            16911  \n",
       "GSG9-IQ               45902  \n",
       "GSG9-JAGER           190252  \n",
       "GSG9-RESERVE          15220  \n",
       "JTF2-BUCK             66074  \n",
       "JTF2-FROST            91942  \n",
       "NAVYSEAL-BLACKBEARD   51491  \n",
       "NAVYSEAL-VALKYRIE    110343  \n",
       "SAS-MUTE             109791  \n",
       "SAS-RESERVE           11498  \n",
       "SAS-SLEDGE           104525  \n",
       "SAS-SMOKE             78530  \n",
       "SAS-THATCHER          82566  \n",
       "SAT-ECHO              32395  \n",
       "SAT-HIBANA           135414  \n",
       "SPETSNAZ-FUZE        127858  \n",
       "SPETSNAZ-GLAZ         49008  \n",
       "SPETSNAZ-KAPKAN       67124  \n",
       "SPETSNAZ-RESERVE       4751  \n",
       "SPETSNAZ-TACHANKA     13253  \n",
       "SWAT-ASH             170286  \n",
       "SWAT-CASTLE           68810  \n",
       "SWAT-PULSE            88876  \n",
       "SWAT-RESERVE           5794  \n",
       "SWAT-THERMITE        133928  "
      ]
     },
     "execution_count": 252,
     "metadata": {},
     "output_type": "execute_result"
    }
   ],
   "source": [
    "df.groupby('operator').sum()"
   ]
  },
  {
   "cell_type": "code",
   "execution_count": 253,
   "metadata": {},
   "outputs": [
    {
     "data": {
      "text/plain": [
       "<matplotlib.axes._subplots.AxesSubplot at 0x205b41ea748>"
      ]
     },
     "execution_count": 253,
     "metadata": {},
     "output_type": "execute_result"
    },
    {
     "data": {
      "image/png": "[encoded data removed]",
      "text/plain": [
       "<Figure size 432x288 with 1 Axes>"
      ]
     },
     "metadata": {
      "needs_background": "light"
     },
     "output_type": "display_data"
    }
   ],
   "source": [
    "WinDf = df.groupby('operator').sum()\n",
    "WinDf = WinDf.sort_values('haswon', ascending=False)\n",
    "del WinDf['clearancelevel']\n",
    "del WinDf['team']\n",
    "del WinDf['roundduration']\n",
    "del WinDf['nbkills']\n",
    "del WinDf['isdead']\n",
    "WinDf.plot.bar()"
   ]
  },
  {
   "cell_type": "code",
   "execution_count": 254,
   "metadata": {},
   "outputs": [
    {
     "data": {
      "text/plain": [
       "platform                object\n",
       "gamemode                object\n",
       "mapname                 object\n",
       "objectivelocation       object\n",
       "winrole                 object\n",
       "endroundreason          object\n",
       "roundduration            int64\n",
       "clearancelevel           int64\n",
       "skillrank               object\n",
       "role                    object\n",
       "team                     int64\n",
       "haswon                   int64\n",
       "operator                object\n",
       "nbkills                  int64\n",
       "isdead                   int64\n",
       "primaryweapon           object\n",
       "primaryweapontype       object\n",
       "primarysight            object\n",
       "primarygrip             object\n",
       "primaryunderbarrel      object\n",
       "primarybarrel           object\n",
       "secondaryweapon         object\n",
       "secondaryweapontype     object\n",
       "secondarysight          object\n",
       "secondarygrip           object\n",
       "secondaryunderbarrel    object\n",
       "secondarybarrel         object\n",
       "secondarygadget         object\n",
       "dtype: object"
      ]
     },
     "execution_count": 254,
     "metadata": {},
     "output_type": "execute_result"
    }
   ],
   "source": [
    "df.dtypes"
   ]
  },
  {
   "cell_type": "code",
   "execution_count": 255,
   "metadata": {},
   "outputs": [
    {
     "data": {
      "text/html": [
       "<div>\n",
       "<style scoped>\n",
       "    .dataframe tbody tr th:only-of-type {\n",
       "        vertical-align: middle;\n",
       "    }\n",
       "\n",
       "    .dataframe tbody tr th {\n",
       "        vertical-align: top;\n",
       "    }\n",
       "\n",
       "    .dataframe thead th {\n",
       "        text-align: right;\n",
       "    }\n",
       "</style>\n",
       "<table border=\"1\" class=\"dataframe\">\n",
       "  <thead>\n",
       "    <tr style=\"text-align: right;\">\n",
       "      <th></th>\n",
       "      <th>haswon</th>\n",
       "    </tr>\n",
       "    <tr>\n",
       "      <th>operator</th>\n",
       "      <th></th>\n",
       "    </tr>\n",
       "  </thead>\n",
       "  <tbody>\n",
       "    <tr>\n",
       "      <td>GSG9-JAGER</td>\n",
       "      <td>137264</td>\n",
       "    </tr>\n",
       "    <tr>\n",
       "      <td>SWAT-ASH</td>\n",
       "      <td>125753</td>\n",
       "    </tr>\n",
       "    <tr>\n",
       "      <td>GIGN-TWITCH</td>\n",
       "      <td>106266</td>\n",
       "    </tr>\n",
       "    <tr>\n",
       "      <td>G.E.O.-JACKAL</td>\n",
       "      <td>105184</td>\n",
       "    </tr>\n",
       "    <tr>\n",
       "      <td>SAT-HIBANA</td>\n",
       "      <td>104178</td>\n",
       "    </tr>\n",
       "  </tbody>\n",
       "</table>\n",
       "</div>"
      ],
      "text/plain": [
       "               haswon\n",
       "operator             \n",
       "GSG9-JAGER     137264\n",
       "SWAT-ASH       125753\n",
       "GIGN-TWITCH    106266\n",
       "G.E.O.-JACKAL  105184\n",
       "SAT-HIBANA     104178"
      ]
     },
     "execution_count": 255,
     "metadata": {},
     "output_type": "execute_result"
    }
   ],
   "source": [
    "WinDf.head()"
   ]
  },
  {
   "cell_type": "code",
   "execution_count": 256,
   "metadata": {},
   "outputs": [
    {
     "data": {
      "text/html": [
       "<div>\n",
       "<style scoped>\n",
       "    .dataframe tbody tr th:only-of-type {\n",
       "        vertical-align: middle;\n",
       "    }\n",
       "\n",
       "    .dataframe tbody tr th {\n",
       "        vertical-align: top;\n",
       "    }\n",
       "\n",
       "    .dataframe thead th {\n",
       "        text-align: right;\n",
       "    }\n",
       "</style>\n",
       "<table border=\"1\" class=\"dataframe\">\n",
       "  <thead>\n",
       "    <tr style=\"text-align: right;\">\n",
       "      <th></th>\n",
       "      <th>roundduration</th>\n",
       "      <th>clearancelevel</th>\n",
       "      <th>team</th>\n",
       "      <th>haswon</th>\n",
       "      <th>nbkills</th>\n",
       "      <th>isdead</th>\n",
       "      <th>totalGames</th>\n",
       "      <th>Win_Rate</th>\n",
       "    </tr>\n",
       "    <tr>\n",
       "      <th>operator</th>\n",
       "      <th></th>\n",
       "      <th></th>\n",
       "      <th></th>\n",
       "      <th></th>\n",
       "      <th></th>\n",
       "      <th></th>\n",
       "      <th></th>\n",
       "      <th></th>\n",
       "    </tr>\n",
       "  </thead>\n",
       "  <tbody>\n",
       "    <tr>\n",
       "      <td>BOPE-CAPITAO</td>\n",
       "      <td>13074857</td>\n",
       "      <td>7027597</td>\n",
       "      <td>33664</td>\n",
       "      <td>35329</td>\n",
       "      <td>46325</td>\n",
       "      <td>50267</td>\n",
       "      <td>70662</td>\n",
       "      <td>0.499972</td>\n",
       "    </tr>\n",
       "    <tr>\n",
       "      <td>BOPE-CAVEIRA</td>\n",
       "      <td>30355200</td>\n",
       "      <td>15773271</td>\n",
       "      <td>87053</td>\n",
       "      <td>85190</td>\n",
       "      <td>121087</td>\n",
       "      <td>119312</td>\n",
       "      <td>163613</td>\n",
       "      <td>0.520680</td>\n",
       "    </tr>\n",
       "    <tr>\n",
       "      <td>G.E.O.-JACKAL</td>\n",
       "      <td>38076568</td>\n",
       "      <td>21560725</td>\n",
       "      <td>95608</td>\n",
       "      <td>105184</td>\n",
       "      <td>161620</td>\n",
       "      <td>141758</td>\n",
       "      <td>204775</td>\n",
       "      <td>0.513656</td>\n",
       "    </tr>\n",
       "    <tr>\n",
       "      <td>G.E.O.-MIRA</td>\n",
       "      <td>32820094</td>\n",
       "      <td>17908371</td>\n",
       "      <td>92172</td>\n",
       "      <td>89899</td>\n",
       "      <td>117652</td>\n",
       "      <td>120857</td>\n",
       "      <td>175065</td>\n",
       "      <td>0.513518</td>\n",
       "    </tr>\n",
       "    <tr>\n",
       "      <td>GIGN-DOC</td>\n",
       "      <td>20848817</td>\n",
       "      <td>9023540</td>\n",
       "      <td>59106</td>\n",
       "      <td>56088</td>\n",
       "      <td>69291</td>\n",
       "      <td>79606</td>\n",
       "      <td>112369</td>\n",
       "      <td>0.499141</td>\n",
       "    </tr>\n",
       "  </tbody>\n",
       "</table>\n",
       "</div>"
      ],
      "text/plain": [
       "               roundduration  clearancelevel   team  haswon  nbkills  isdead  \\\n",
       "operator                                                                       \n",
       "BOPE-CAPITAO        13074857         7027597  33664   35329    46325   50267   \n",
       "BOPE-CAVEIRA        30355200        15773271  87053   85190   121087  119312   \n",
       "G.E.O.-JACKAL       38076568        21560725  95608  105184   161620  141758   \n",
       "G.E.O.-MIRA         32820094        17908371  92172   89899   117652  120857   \n",
       "GIGN-DOC            20848817         9023540  59106   56088    69291   79606   \n",
       "\n",
       "               totalGames  Win_Rate  \n",
       "operator                             \n",
       "BOPE-CAPITAO        70662  0.499972  \n",
       "BOPE-CAVEIRA       163613  0.520680  \n",
       "G.E.O.-JACKAL      204775  0.513656  \n",
       "G.E.O.-MIRA        175065  0.513518  \n",
       "GIGN-DOC           112369  0.499141  "
      ]
     },
     "execution_count": 256,
     "metadata": {},
     "output_type": "execute_result"
    }
   ],
   "source": [
    "tempDf = df\n",
    "tempDf[\"totalGames\"] = 1\n",
    "WinRate = df.groupby('operator').sum()\n",
    "WinRate[\"Win_Rate\"] = (WinRate[\"haswon\"]) / (WinRate[\"totalGames\"])\n",
    "WinRate.head()"
   ]
  },
  {
   "cell_type": "code",
   "execution_count": 257,
   "metadata": {},
   "outputs": [
    {
     "name": "stdout",
     "output_type": "stream",
     "text": [
      "Win rate in %: \n",
      "operator\n",
      "JTF2-FROST             53.5207\n",
      "GIGN-ROOK              53.1874\n",
      "NAVYSEAL-VALKYRIE      52.0899\n",
      "BOPE-CAVEIRA           52.0680\n",
      "GSG9-JAGER             51.9630\n",
      "GIGN-TWITCH            51.8867\n",
      "GSG9-BANDIT            51.7954\n",
      "SAT-HIBANA             51.4864\n",
      "G.E.O.-JACKAL          51.3656\n",
      "G.E.O.-MIRA            51.3518\n",
      "SWAT-ASH               51.3033\n",
      "SAS-MUTE               50.8680\n",
      "SAS-THATCHER           50.7154\n",
      "SWAT-THERMITE          50.6236\n",
      "SAT-ECHO               50.5425\n",
      "SAS-SLEDGE             50.4808\n",
      "SAS-SMOKE              50.4201\n",
      "GSG9-IQ                50.4144\n",
      "SPETSNAZ-FUZE          50.1837\n",
      "NAVYSEAL-BLACKBEARD    50.0390\n",
      "BOPE-CAPITAO           49.9972\n",
      "GIGN-DOC               49.9141\n",
      "SWAT-PULSE             49.8825\n",
      "JTF2-BUCK              49.8236\n",
      "SPETSNAZ-KAPKAN        49.7649\n",
      "SWAT-CASTLE            49.6724\n",
      "SPETSNAZ-GLAZ          49.0154\n",
      "GIGN-MONTAGNE          48.2531\n",
      "GSG9-RESERVE           48.2143\n",
      "GSG9-BLITZ             47.5300\n",
      "SPETSNAZ-TACHANKA      46.3889\n",
      "SWAT-RESERVE           46.3764\n",
      "GIGN-RESERVE           45.7940\n",
      "SAS-RESERVE            45.5578\n",
      "SPETSNAZ-RESERVE       44.9469\n",
      "dtype: float64\n"
     ]
    }
   ],
   "source": [
    "WinR = round((WinRate[\"haswon\"]) / (WinRate[\"totalGames\"]) * 100,4)\n",
    "WinR = WinR.sort_values( ascending=False)\n",
    "print(\"Win rate in %: \")\n",
    "print(WinR)"
   ]
  },
  {
   "cell_type": "code",
   "execution_count": null,
   "metadata": {},
   "outputs": [],
   "source": []
  },
  {
   "cell_type": "code",
   "execution_count": 258,
   "metadata": {},
   "outputs": [
    {
     "data": {
      "text/html": [
       "<div>\n",
       "<style scoped>\n",
       "    .dataframe tbody tr th:only-of-type {\n",
       "        vertical-align: middle;\n",
       "    }\n",
       "\n",
       "    .dataframe tbody tr th {\n",
       "        vertical-align: top;\n",
       "    }\n",
       "\n",
       "    .dataframe thead th {\n",
       "        text-align: right;\n",
       "    }\n",
       "</style>\n",
       "<table border=\"1\" class=\"dataframe\">\n",
       "  <thead>\n",
       "    <tr style=\"text-align: right;\">\n",
       "      <th></th>\n",
       "      <th>platform</th>\n",
       "      <th>gamemode</th>\n",
       "      <th>mapname</th>\n",
       "      <th>objectivelocation</th>\n",
       "      <th>winrole</th>\n",
       "      <th>endroundreason</th>\n",
       "      <th>roundduration</th>\n",
       "      <th>clearancelevel</th>\n",
       "      <th>skillrank</th>\n",
       "      <th>role</th>\n",
       "      <th>...</th>\n",
       "      <th>primaryunderbarrel</th>\n",
       "      <th>primarybarrel</th>\n",
       "      <th>secondaryweapon</th>\n",
       "      <th>secondaryweapontype</th>\n",
       "      <th>secondarysight</th>\n",
       "      <th>secondarygrip</th>\n",
       "      <th>secondaryunderbarrel</th>\n",
       "      <th>secondarybarrel</th>\n",
       "      <th>secondarygadget</th>\n",
       "      <th>totalGames</th>\n",
       "    </tr>\n",
       "  </thead>\n",
       "  <tbody>\n",
       "    <tr>\n",
       "      <td>0</td>\n",
       "      <td>0</td>\n",
       "      <td>1</td>\n",
       "      <td>4</td>\n",
       "      <td>127</td>\n",
       "      <td>1</td>\n",
       "      <td>2</td>\n",
       "      <td>118</td>\n",
       "      <td>64</td>\n",
       "      <td>3</td>\n",
       "      <td>1</td>\n",
       "      <td>...</td>\n",
       "      <td>1</td>\n",
       "      <td>0</td>\n",
       "      <td>0</td>\n",
       "      <td>0</td>\n",
       "      <td>2</td>\n",
       "      <td>1</td>\n",
       "      <td>2</td>\n",
       "      <td>5</td>\n",
       "      <td>5</td>\n",
       "      <td>0</td>\n",
       "    </tr>\n",
       "    <tr>\n",
       "      <td>1</td>\n",
       "      <td>0</td>\n",
       "      <td>1</td>\n",
       "      <td>4</td>\n",
       "      <td>53</td>\n",
       "      <td>1</td>\n",
       "      <td>1</td>\n",
       "      <td>211</td>\n",
       "      <td>81</td>\n",
       "      <td>3</td>\n",
       "      <td>1</td>\n",
       "      <td>...</td>\n",
       "      <td>0</td>\n",
       "      <td>6</td>\n",
       "      <td>8</td>\n",
       "      <td>0</td>\n",
       "      <td>2</td>\n",
       "      <td>1</td>\n",
       "      <td>1</td>\n",
       "      <td>7</td>\n",
       "      <td>3</td>\n",
       "      <td>0</td>\n",
       "    </tr>\n",
       "    <tr>\n",
       "      <td>2</td>\n",
       "      <td>0</td>\n",
       "      <td>1</td>\n",
       "      <td>4</td>\n",
       "      <td>53</td>\n",
       "      <td>1</td>\n",
       "      <td>1</td>\n",
       "      <td>154</td>\n",
       "      <td>150</td>\n",
       "      <td>3</td>\n",
       "      <td>1</td>\n",
       "      <td>...</td>\n",
       "      <td>1</td>\n",
       "      <td>4</td>\n",
       "      <td>7</td>\n",
       "      <td>0</td>\n",
       "      <td>2</td>\n",
       "      <td>1</td>\n",
       "      <td>2</td>\n",
       "      <td>5</td>\n",
       "      <td>3</td>\n",
       "      <td>0</td>\n",
       "    </tr>\n",
       "    <tr>\n",
       "      <td>3</td>\n",
       "      <td>0</td>\n",
       "      <td>1</td>\n",
       "      <td>4</td>\n",
       "      <td>53</td>\n",
       "      <td>1</td>\n",
       "      <td>1</td>\n",
       "      <td>211</td>\n",
       "      <td>94</td>\n",
       "      <td>3</td>\n",
       "      <td>1</td>\n",
       "      <td>...</td>\n",
       "      <td>1</td>\n",
       "      <td>3</td>\n",
       "      <td>13</td>\n",
       "      <td>0</td>\n",
       "      <td>2</td>\n",
       "      <td>1</td>\n",
       "      <td>2</td>\n",
       "      <td>5</td>\n",
       "      <td>5</td>\n",
       "      <td>0</td>\n",
       "    </tr>\n",
       "    <tr>\n",
       "      <td>4</td>\n",
       "      <td>0</td>\n",
       "      <td>1</td>\n",
       "      <td>4</td>\n",
       "      <td>43</td>\n",
       "      <td>0</td>\n",
       "      <td>6</td>\n",
       "      <td>137</td>\n",
       "      <td>81</td>\n",
       "      <td>3</td>\n",
       "      <td>1</td>\n",
       "      <td>...</td>\n",
       "      <td>0</td>\n",
       "      <td>6</td>\n",
       "      <td>8</td>\n",
       "      <td>0</td>\n",
       "      <td>2</td>\n",
       "      <td>1</td>\n",
       "      <td>1</td>\n",
       "      <td>7</td>\n",
       "      <td>3</td>\n",
       "      <td>0</td>\n",
       "    </tr>\n",
       "  </tbody>\n",
       "</table>\n",
       "<p>5 rows × 29 columns</p>\n",
       "</div>"
      ],
      "text/plain": [
       "   platform  gamemode  mapname  objectivelocation  winrole  endroundreason  \\\n",
       "0         0         1        4                127        1               2   \n",
       "1         0         1        4                 53        1               1   \n",
       "2         0         1        4                 53        1               1   \n",
       "3         0         1        4                 53        1               1   \n",
       "4         0         1        4                 43        0               6   \n",
       "\n",
       "   roundduration  clearancelevel  skillrank  role  ...  primaryunderbarrel  \\\n",
       "0            118              64          3     1  ...                   1   \n",
       "1            211              81          3     1  ...                   0   \n",
       "2            154             150          3     1  ...                   1   \n",
       "3            211              94          3     1  ...                   1   \n",
       "4            137              81          3     1  ...                   0   \n",
       "\n",
       "   primarybarrel  secondaryweapon  secondaryweapontype  secondarysight  \\\n",
       "0              0                0                    0               2   \n",
       "1              6                8                    0               2   \n",
       "2              4                7                    0               2   \n",
       "3              3               13                    0               2   \n",
       "4              6                8                    0               2   \n",
       "\n",
       "   secondarygrip  secondaryunderbarrel  secondarybarrel  secondarygadget  \\\n",
       "0              1                     2                5                5   \n",
       "1              1                     1                7                3   \n",
       "2              1                     2                5                3   \n",
       "3              1                     2                5                5   \n",
       "4              1                     1                7                3   \n",
       "\n",
       "   totalGames  \n",
       "0           0  \n",
       "1           0  \n",
       "2           0  \n",
       "3           0  \n",
       "4           0  \n",
       "\n",
       "[5 rows x 29 columns]"
      ]
     },
     "execution_count": 258,
     "metadata": {},
     "output_type": "execute_result"
    }
   ],
   "source": [
    "df2 = df\n",
    "df2 = df2.apply(LabelEncoder().fit_transform)\n",
    "df2.head()"
   ]
  },
  {
   "cell_type": "code",
   "execution_count": null,
   "metadata": {},
   "outputs": [],
   "source": []
  },
  {
   "cell_type": "markdown",
   "metadata": {},
   "source": [
    "LogisticRegression"
   ]
  },
  {
   "cell_type": "code",
   "execution_count": 278,
   "metadata": {},
   "outputs": [],
   "source": [
    "X=df2.drop(columns=['haswon','endroundreason', 'nbkills', 'isdead'],axis=1)\n",
    "y=df2['haswon']\n",
    "X_train, X_test, y_train, y_test = train_test_split(X, y, test_size=0.33, random_state=42)"
   ]
  },
  {
   "cell_type": "code",
   "execution_count": 260,
   "metadata": {},
   "outputs": [],
   "source": [
    "LogisticRegression=LogisticRegression()\n",
    "LogisticRegression.fit(X_train,y_train)\n",
    "predictionL=LogisticRegression.predict(X_test)"
   ]
  },
  {
   "cell_type": "code",
   "execution_count": 261,
   "metadata": {},
   "outputs": [
    {
     "name": "stdout",
     "output_type": "stream",
     "text": [
      "              precision    recall  f1-score   support\n",
      "\n",
      "           0       0.68      0.96      0.79    647762\n",
      "           1       0.94      0.56      0.70    672238\n",
      "\n",
      "    accuracy                           0.76   1320000\n",
      "   macro avg       0.81      0.76      0.75   1320000\n",
      "weighted avg       0.81      0.76      0.75   1320000\n",
      "\n"
     ]
    }
   ],
   "source": [
    "print(classification_report(y_test,predictionL))"
   ]
  },
  {
   "cell_type": "code",
   "execution_count": 262,
   "metadata": {},
   "outputs": [
    {
     "name": "stdout",
     "output_type": "stream",
     "text": [
      "Accuracy: 0.7555856060606061\n"
     ]
    }
   ],
   "source": [
    "print(\"Accuracy:\",metrics.accuracy_score(y_test,predictionL))"
   ]
  },
  {
   "cell_type": "code",
   "execution_count": 263,
   "metadata": {},
   "outputs": [
    {
     "name": "stdout",
     "output_type": "stream",
     "text": [
      "[[623962  23800]\n",
      " [298827 373411]]\n"
     ]
    },
    {
     "data": {
      "image/png": "[encoded data removed]",
      "text/plain": [
       "<Figure size 432x288 with 2 Axes>"
      ]
     },
     "metadata": {
      "needs_background": "light"
     },
     "output_type": "display_data"
    }
   ],
   "source": [
    "sns.heatmap(confusion_matrix(y_test, predictionL), annot=True)\n",
    "print(confusion_matrix(y_test, predictionL))"
   ]
  },
  {
   "cell_type": "markdown",
   "metadata": {},
   "source": [
    "KNN"
   ]
  },
  {
   "cell_type": "code",
   "execution_count": 264,
   "metadata": {},
   "outputs": [],
   "source": [
    "#I am going to choose choose k=3 becuase must k have similar score\n",
    "knn=KNeighborsClassifier(n_neighbors=3)\n",
    "knn.fit(X_train,y_train)\n",
    "predictionK=knn.predict(X_test)"
   ]
  },
  {
   "cell_type": "code",
   "execution_count": 265,
   "metadata": {},
   "outputs": [
    {
     "name": "stdout",
     "output_type": "stream",
     "text": [
      "              precision    recall  f1-score   support\n",
      "\n",
      "           0       0.60      0.61      0.60    647762\n",
      "           1       0.62      0.61      0.61    672238\n",
      "\n",
      "    accuracy                           0.61   1320000\n",
      "   macro avg       0.61      0.61      0.61   1320000\n",
      "weighted avg       0.61      0.61      0.61   1320000\n",
      "\n"
     ]
    }
   ],
   "source": [
    "print(classification_report(y_test,predictionK))"
   ]
  },
  {
   "cell_type": "code",
   "execution_count": 266,
   "metadata": {},
   "outputs": [
    {
     "name": "stdout",
     "output_type": "stream",
     "text": [
      "Accuracy: 0.6091909090909091\n"
     ]
    }
   ],
   "source": [
    "print(\"Accuracy:\",metrics.accuracy_score(y_test,predictionK))"
   ]
  },
  {
   "cell_type": "code",
   "execution_count": 267,
   "metadata": {},
   "outputs": [
    {
     "name": "stdout",
     "output_type": "stream",
     "text": [
      "[[393902 253860]\n",
      " [262008 410230]]\n"
     ]
    },
    {
     "data": {
      "image/png": "[encoded data removed]",
      "text/plain": [
       "<Figure size 432x288 with 2 Axes>"
      ]
     },
     "metadata": {
      "needs_background": "light"
     },
     "output_type": "display_data"
    }
   ],
   "source": [
    "sns.heatmap(confusion_matrix(y_test, predictionK), annot=True)\n",
    "print(confusion_matrix(y_test, predictionK))"
   ]
  },
  {
   "cell_type": "markdown",
   "metadata": {},
   "source": [
    "Decision Tree"
   ]
  },
  {
   "cell_type": "code",
   "execution_count": 279,
   "metadata": {},
   "outputs": [],
   "source": [
    "# Create Decision Tree classifer object\n",
    "Tree = DecisionTreeClassifier()\n",
    "Tree = Tree.fit(X_train,y_train)\n",
    "predictionT = Tree.predict(X_test)"
   ]
  },
  {
   "cell_type": "code",
   "execution_count": 280,
   "metadata": {},
   "outputs": [
    {
     "name": "stdout",
     "output_type": "stream",
     "text": [
      "              precision    recall  f1-score   support\n",
      "\n",
      "           0       1.00      1.00      1.00    647762\n",
      "           1       1.00      1.00      1.00    672238\n",
      "\n",
      "    accuracy                           1.00   1320000\n",
      "   macro avg       1.00      1.00      1.00   1320000\n",
      "weighted avg       1.00      1.00      1.00   1320000\n",
      "\n"
     ]
    }
   ],
   "source": [
    "print(classification_report(y_test,predictionT))"
   ]
  },
  {
   "cell_type": "code",
   "execution_count": 281,
   "metadata": {},
   "outputs": [
    {
     "name": "stdout",
     "output_type": "stream",
     "text": [
      "Accuracy: 0.9997560606060606\n"
     ]
    }
   ],
   "source": [
    "print(\"Accuracy:\",metrics.accuracy_score(y_test, predictionT))"
   ]
  },
  {
   "cell_type": "code",
   "execution_count": 282,
   "metadata": {},
   "outputs": [
    {
     "name": "stdout",
     "output_type": "stream",
     "text": [
      "[[647628    134]\n",
      " [   188 672050]]\n"
     ]
    },
    {
     "data": {
      "image/png": "[encoded data removed]",
      "text/plain": [
       "<Figure size 432x288 with 2 Axes>"
      ]
     },
     "metadata": {
      "needs_background": "light"
     },
     "output_type": "display_data"
    }
   ],
   "source": [
    "sns.heatmap(confusion_matrix(y_test, predictionT), annot=True)\n",
    "print(confusion_matrix(y_test, predictionT))"
   ]
  },
  {
   "cell_type": "markdown",
   "metadata": {},
   "source": [
    "Score"
   ]
  },
  {
   "cell_type": "code",
   "execution_count": 272,
   "metadata": {},
   "outputs": [
    {
     "data": {
      "text/plain": [
       "0.7555856060606061"
      ]
     },
     "execution_count": 272,
     "metadata": {},
     "output_type": "execute_result"
    }
   ],
   "source": [
    "LogisticRegression.score(X_test,y_test)"
   ]
  },
  {
   "cell_type": "code",
   "execution_count": 273,
   "metadata": {},
   "outputs": [
    {
     "data": {
      "text/plain": [
       "0.7554313432835821"
      ]
     },
     "execution_count": 273,
     "metadata": {},
     "output_type": "execute_result"
    }
   ],
   "source": [
    "LogisticRegression.score(X_train,y_train)"
   ]
  },
  {
   "cell_type": "code",
   "execution_count": 274,
   "metadata": {},
   "outputs": [
    {
     "data": {
      "text/plain": [
       "0.6091909090909091"
      ]
     },
     "execution_count": 274,
     "metadata": {},
     "output_type": "execute_result"
    }
   ],
   "source": [
    "knn.score(X_test,y_test)"
   ]
  },
  {
   "cell_type": "code",
   "execution_count": 275,
   "metadata": {},
   "outputs": [
    {
     "data": {
      "text/plain": [
       "0.8023164179104477"
      ]
     },
     "execution_count": 275,
     "metadata": {},
     "output_type": "execute_result"
    }
   ],
   "source": [
    "knn.score(X_train,y_train)"
   ]
  },
  {
   "cell_type": "code",
   "execution_count": 276,
   "metadata": {},
   "outputs": [
    {
     "data": {
      "text/plain": [
       "1.0"
      ]
     },
     "execution_count": 276,
     "metadata": {},
     "output_type": "execute_result"
    }
   ],
   "source": [
    "Tree.score(X_test,y_test)"
   ]
  },
  {
   "cell_type": "code",
   "execution_count": 277,
   "metadata": {},
   "outputs": [
    {
     "data": {
      "text/plain": [
       "1.0"
      ]
     },
     "execution_count": 277,
     "metadata": {},
     "output_type": "execute_result"
    }
   ],
   "source": [
    "Tree.score(X_train,y_train)"
   ]
  },
  {
   "cell_type": "code",
   "execution_count": null,
   "metadata": {},
   "outputs": [],
   "source": []
  }
 ],
 "metadata": {
  "kernelspec": {
   "display_name": "Python 3",
   "language": "python",
   "name": "python3"
  },
  "language_info": {
   "codemirror_mode": {
    "name": "ipython",
    "version": 3
   },
   "file_extension": ".py",
   "mimetype": "text/x-python",
   "name": "python",
   "nbconvert_exporter": "python",
   "pygments_lexer": "ipython3",
   "version": "3.7.4"
  }
 },
 "nbformat": 4,
 "nbformat_minor": 2
}
